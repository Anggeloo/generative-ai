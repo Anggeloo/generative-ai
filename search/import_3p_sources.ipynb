{
 "cells": [
  {
   "cell_type": "code",
   "execution_count": null,
   "metadata": {
    "id": "ur8xi4C7S06n"
   },
   "outputs": [],
   "source": [
    "# Copyright 2024 Google LLC\n",
    "#\n",
    "# Licensed under the Apache License, Version 2.0 (the \"License\");\n",
    "# you may not use this file except in compliance with the License.\n",
    "# You may obtain a copy of the License at\n",
    "#\n",
    "#     https://www.apache.org/licenses/LICENSE-2.0\n",
    "#\n",
    "# Unless required by applicable law or agreed to in writing, software\n",
    "# distributed under the License is distributed on an \"AS IS\" BASIS,\n",
    "# WITHOUT WARRANTIES OR CONDITIONS OF ANY KIND, either express or implied.\n",
    "# See the License for the specific language governing permissions and\n",
    "# limitations under the License."
   ]
  },
  {
   "cell_type": "markdown",
   "metadata": {
    "id": "JAPoU8Sm5E6e"
   },
   "source": [
    "# Load Data from Third-Party Sources into Vertex AI Search\n",
    "\n",
    "<table align=\"left\">\n",
    "  <td style=\"text-align: center\">\n",
    "    <a href=\"https://colab.research.google.com/github/GoogleCloudPlatform/generative-ai/blob/main/search/import_3p_sources.ipynb\">\n",
    "      <img width=\"32px\" src=\"https://www.gstatic.com/pantheon/images/bigquery/welcome_page/colab-logo.svg\" alt=\"Google Colaboratory logo\"><br> Open in Colab\n",
    "    </a>\n",
    "  </td>\n",
    "  <td style=\"text-align: center\">\n",
    "    <a href=\"https://console.cloud.google.com/vertex-ai/colab/import/https:%2F%2Fraw.githubusercontent.com%2FGoogleCloudPlatform%2Fgenerative-ai%2Fmain%2Fsearch%2Fimport_3p_sources.ipynb\">\n",
    "      <img width=\"32px\" src=\"https://lh3.googleusercontent.com/JmcxdQi-qOpctIvWKgPtrzZdJJK-J3sWE1RsfjZNwshCFgE_9fULcNpuXYTilIR2hjwN\" alt=\"Google Cloud Colab Enterprise logo\"><br> Open in Colab Enterprise\n",
    "    </a>\n",
    "  </td>\n",
    "  <td style=\"text-align: center\">\n",
    "    <a href=\"https://console.cloud.google.com/vertex-ai/workbench/deploy-notebook?download_url=https://raw.githubusercontent.com/GoogleCloudPlatform/generative-ai/main/search/import_3p_sources.ipynb\">\n",
    "      <img src=\"https://www.gstatic.com/images/branding/gcpiconscolors/vertexai/v1/32px.svg\" alt=\"Vertex AI logo\"><br> Open in Vertex AI Workbench\n",
    "    </a>\n",
    "  </td>\n",
    "  <td style=\"text-align: center\">\n",
    "    <a href=\"https://github.com/GoogleCloudPlatform/generative-ai/blob/main/search/import_3p_sources.ipynb\">\n",
    "      <img width=\"32px\" src=\"https://upload.wikimedia.org/wikipedia/commons/9/91/Octicons-mark-github.svg\" alt=\"GitHub logo\"><br> View on GitHub\n",
    "    </a>\n",
    "  </td>\n",
    "</table>"
   ]
  },
  {
   "cell_type": "markdown",
   "metadata": {
    "id": "84f0f73a0f76"
   },
   "source": [
    "| | |\n",
    "|-|-|\n",
    "| Author(s) | [Holt Skinner](https://github.com/holtskinner) |"
   ]
  },
  {
   "cell_type": "markdown",
   "metadata": {
    "id": "tvgnzT1CKxrO"
   },
   "source": [
    "## Overview\n",
    "\n",
    "This notebook describes how to connect third-party data sources to Vertex AI Search.\n",
    "\n",
    "NOTE: This feature is only available to allowlisted users.\n",
    "\n",
    "For more information, refer to the [documentation](https://cloud.google.com/generative-ai-app-builder/docs/connect-third-party-data-source)."
   ]
  },
  {
   "cell_type": "markdown",
   "metadata": {
    "id": "61RBz8LLbxCR"
   },
   "source": [
    "## Get started"
   ]
  },
  {
   "cell_type": "markdown",
   "metadata": {
    "id": "No17Cw5hgx12"
   },
   "source": [
    "### Install Vertex AI SDK and other required packages\n"
   ]
  },
  {
   "cell_type": "code",
   "execution_count": null,
   "metadata": {
    "id": "tFy3H3aPgx12"
   },
   "outputs": [],
   "source": [
    "%pip install --upgrade --user --quiet google-cloud-discoveryengine atlassian-python-api"
   ]
  },
  {
   "cell_type": "markdown",
   "metadata": {
    "id": "R5Xep4W9lq-Z"
   },
   "source": [
    "### Restart runtime\n",
    "\n",
    "To use the newly installed packages in this Jupyter runtime, you must restart the runtime. You can do this by running the cell below, which restarts the current kernel.\n",
    "\n",
    "The restart might take a minute or longer. After it's restarted, continue to the next step."
   ]
  },
  {
   "cell_type": "code",
   "execution_count": null,
   "metadata": {
    "id": "XRvKdaPDTznN"
   },
   "outputs": [],
   "source": [
    "import IPython\n",
    "\n",
    "app = IPython.Application.instance()\n",
    "app.kernel.do_shutdown(True)"
   ]
  },
  {
   "cell_type": "markdown",
   "metadata": {
    "id": "SbmM4z7FOBpM"
   },
   "source": [
    "<div class=\"alert alert-block alert-warning\">\n",
    "<b>⚠️ The kernel is going to restart. Wait until it's finished before continuing to the next step. ⚠️</b>\n",
    "</div>\n"
   ]
  },
  {
   "cell_type": "markdown",
   "metadata": {
    "id": "dmWOrTJ3gx13"
   },
   "source": [
    "### Authenticate your notebook environment (Colab only)\n",
    "\n",
    "If you're running this notebook on Google Colab, run the cell below to authenticate your environment."
   ]
  },
  {
   "cell_type": "code",
   "execution_count": null,
   "metadata": {
    "id": "NyKGtVQjgx13"
   },
   "outputs": [],
   "source": [
    "import sys\n",
    "\n",
    "if \"google.colab\" in sys.modules:\n",
    "    from google.colab import auth\n",
    "\n",
    "    auth.authenticate_user()"
   ]
  },
  {
   "cell_type": "markdown",
   "metadata": {
    "id": "DF4l8DTdWgPY"
   },
   "source": [
    "### Set Google Cloud project information and initialize Vertex AI SDK\n",
    "\n",
    "To get started using Vertex AI, you must have an existing Google Cloud project and [enable the Vertex AI API](https://console.cloud.google.com/flows/enableapi?apiid=aiplatform.googleapis.com).\n",
    "\n",
    "Learn more about [setting up a project and a development environment](https://cloud.google.com/vertex-ai/docs/start/cloud-environment)."
   ]
  },
  {
   "cell_type": "code",
   "execution_count": null,
   "metadata": {
    "id": "Nqwi-5ufWp_B"
   },
   "outputs": [],
   "source": [
    "# Use the environment variable if the user doesn't provide Project ID.\n",
    "import os\n",
    "\n",
    "PROJECT_ID = \"[your-project-id]\"  # @param {type: \"string\", placeholder: \"[your-project-id]\", isTemplate: true}\n",
    "if not PROJECT_ID or PROJECT_ID == \"[your-project-id]\":\n",
    "    PROJECT_ID = str(os.environ.get(\"GOOGLE_CLOUD_PROJECT\"))"
   ]
  },
  {
   "cell_type": "markdown",
   "metadata": {
    "id": "EdvJRUWRNGHE"
   },
   "source": [
    "## Atlassian Confluence\n",
    "\n",
    "Before connecting to Vertex AI Search, the Atlassian data source must have OAuth configured correctly.\n",
    "\n",
    "The following code performs many of the required configuration steps.\n",
    "\n",
    "For more information, refer to the [documentation](https://cloud.google.com/generative-ai-app-builder/docs/connect-third-party-data-source#confluence)."
   ]
  },
  {
   "cell_type": "markdown",
   "metadata": {},
   "source": [
    "### Create an Atlassian API token\n",
    "\n",
    "Create an API token from your Atlassian account:\n",
    "\n",
    "1. Log in to https://id.atlassian.com/manage-profile/security/api-tokens.\n",
    "\n",
    "2. Click Create API token.\n",
    "\n",
    "3. From the dialog that appears, enter a memorable and concise Label for your token and click Create.\n",
    "\n",
    "4. Click Copy to clipboard, then paste the token to your script, or elsewhere to save:"
   ]
  },
  {
   "cell_type": "code",
   "execution_count": null,
   "metadata": {},
   "outputs": [],
   "source": [
    "# https://EXAMPLE.atlassian.net\n",
    "ATLASSIAN_INSTANCE = \"https://vertex-ai-search-test2.atlassian.net\"\n",
    "ATLASSIAN_API_TOKEN = \"\""
   ]
  },
  {
   "cell_type": "code",
   "execution_count": null,
   "metadata": {},
   "outputs": [],
   "source": [
    "from atlassian import Confluence\n",
    "import requests\n",
    "from requests_oauthlib import OAuth2Session\n",
    "\n",
    "# Constants\n",
    "USERNAME = \"your-email@example.com\"\n",
    "API_TOKEN = \"your-api-token\"\n",
    "CLIENT_ID = \"your-client-id\"\n",
    "CLIENT_SECRET = \"your-client-secret\"\n",
    "REDIRECT_URI = (\n",
    "    \"https://vertexaisearch.cloud.google.com/console/oauth/confluence_oauth.html\"\n",
    ")\n",
    "SCOPES = [\n",
    "    \"read:attachment:confluence\",\n",
    "    \"read:configuration:confluence\",\n",
    "    \"read:content-details:confluence\",\n",
    "    \"read:content.metadata:confluence\",\n",
    "    \"read:group:confluence\",\n",
    "    \"read:space:confluence\",\n",
    "    \"read:user:confluence\",\n",
    "]\n",
    "\n",
    "# Step 1: Initialize Confluence client\n",
    "confluence = Confluence(url=CONFLUENCE_URL, username=USERNAME, password=API_TOKEN)\n",
    "\n",
    "# Step 2: Get all spaces\n",
    "spaces = confluence.get_all_spaces()\n",
    "print(\"Spaces:\", spaces)\n",
    "\n",
    "# Step 3: Retrieve cloudId\n",
    "response = requests.get(\n",
    "    f\"{CONFLUENCE_URL}/_edge/tenant_info\", auth=(USERNAME, API_TOKEN)\n",
    ")\n",
    "if response.status_code == 200:\n",
    "    cloud_id = response.json().get(\"cloudId\")\n",
    "    print(\"Cloud ID:\", cloud_id)\n",
    "else:\n",
    "    print(\"Failed to retrieve cloud ID:\", response.status_code)\n",
    "\n",
    "# Step 4: Initialize OAuth2 session and retrieve token\n",
    "oauth = OAuth2Session(CLIENT_ID, redirect_uri=REDIRECT_URI, scope=SCOPES)\n",
    "authorization_url, state = oauth.authorization_url(\n",
    "    \"https://auth.atlassian.com/authorize\"\n",
    ")\n",
    "print(\"Visit this URL to authorize the application:\", authorization_url)\n",
    "\n",
    "# Fetch token after authorization\n",
    "token = oauth.fetch_token(\n",
    "    \"https://auth.atlassian.com/oauth/token\",\n",
    "    client_secret=CLIENT_SECRET,\n",
    "    authorization_response=input(\"Enter callback URL: \"),\n",
    ")\n",
    "\n",
    "# Use OAuth token to access Confluence API\n",
    "confluence_oauth = Confluence(url=CONFLUENCE_URL, token=token[\"access_token\"])\n",
    "\n",
    "# Example of retrieving content with OAuth\n",
    "content = confluence_oauth.get_page_by_title(space=\"SPACE_KEY\", title=\"Page Title\")\n",
    "print(\"Content:\", content)"
   ]
  },
  {
   "cell_type": "markdown",
   "metadata": {
    "id": "5303c05f7aa6"
   },
   "source": [
    "### Import libraries"
   ]
  },
  {
   "cell_type": "code",
   "execution_count": null,
   "metadata": {
    "id": "6fc324893334"
   },
   "outputs": [],
   "source": [
    "# TODO: Add all library imports here"
   ]
  },
  {
   "cell_type": "markdown",
   "metadata": {
    "id": "e43229f3ad4f"
   },
   "source": [
    "### Load model"
   ]
  },
  {
   "cell_type": "code",
   "execution_count": null,
   "metadata": {
    "id": "cf93d5f0ce00"
   },
   "outputs": [],
   "source": [
    "# TODO: Uncomment and add model name\n",
    "# MODEL_ID = \"\"  # @param {type:\"string\", isTemplate: true}"
   ]
  },
  {
   "cell_type": "markdown",
   "metadata": {
    "id": "2a4e033321ad"
   },
   "source": [
    "## Cleaning up\n",
    "\n",
    "{TODO: Clean up resources created in this notebook. If no resources are created in this notebook, remove this section}"
   ]
  }
 ],
 "metadata": {
  "colab": {
   "name": "notebook_template.ipynb",
   "toc_visible": true
  },
  "kernelspec": {
   "display_name": "Python 3",
   "name": "python3"
  },
  "language_info": {
   "codemirror_mode": {
    "name": "ipython",
    "version": 3
   },
   "file_extension": ".py",
   "mimetype": "text/x-python",
   "name": "python",
   "nbconvert_exporter": "python",
   "pygments_lexer": "ipython3",
   "version": "3.11.0"
  }
 },
 "nbformat": 4,
 "nbformat_minor": 0
}
